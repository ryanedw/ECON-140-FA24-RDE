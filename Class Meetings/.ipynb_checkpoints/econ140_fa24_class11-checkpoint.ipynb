{
 "cells": [
  {
   "cell_type": "markdown",
   "metadata": {},
   "source": [
    "<img src=\"images/econ140R_logo.png\" width=\"200\" />"
   ]
  },
  {
   "cell_type": "markdown",
   "metadata": {},
   "source": [
    "<h1>ECON 140R Class 11</h1>"
   ]
  },
  {
   "cell_type": "markdown",
   "metadata": {},
   "source": [
    "<h2>IPUMS</h2>\n",
    "In this hands-on, we will step through an example of loading up and recoding a data extract from the expansive Integrated Public Use Microdata Series ([IPUMS](https://www.ipums.org)) database.\n",
    "\n",
    "<h2>Learning objectives:</h2>\n",
    "\n",
    "1. More experience with OLS\n",
    "2. Better formatting, with `options(scipen=999)` and `table()` inside a `data.frame`\n",
    "3. Recoding variables using `ifelse()` and `case_when()` inside the `dplyr` library\n",
    "4. Estimation with survey weights"
   ]
  },
  {
   "cell_type": "code",
   "execution_count": 2,
   "metadata": {
    "collapsed": false
   },
   "outputs": [
    {
     "name": "stderr",
     "output_type": "stream",
     "text": [
      "also installing the dependencies ‘BH’, ‘hipread’, ‘zeallot’\n",
      "\n",
      "\n"
     ]
    },
    {
     "name": "stdout",
     "output_type": "stream",
     "text": [
      "\n",
      "  There are binary versions available but the source versions are later:\n",
      "         binary   source needs_compilation\n",
      "BH     1.81.0-1 1.84.0-0             FALSE\n",
      "ipumsr    0.7.0    0.8.1             FALSE\n",
      "\n",
      "\n",
      "The downloaded binary packages are in\n",
      "\t/var/folders/4r/gd33_2lj1qgctpfrd21z0ns40000gn/T//RtmpbO86wj/downloaded_packages\n"
     ]
    },
    {
     "name": "stderr",
     "output_type": "stream",
     "text": [
      "installing the source packages ‘BH’, ‘ipumsr’\n",
      "\n",
      "\n",
      "\n",
      "Attaching package: ‘dplyr’\n",
      "\n",
      "\n",
      "The following objects are masked from ‘package:stats’:\n",
      "\n",
      "    filter, lag\n",
      "\n",
      "\n",
      "The following objects are masked from ‘package:base’:\n",
      "\n",
      "    intersect, setdiff, setequal, union\n",
      "\n",
      "\n",
      "── \u001b[1mAttaching core tidyverse packages\u001b[22m ──────────────────────── tidyverse 2.0.0 ──\n",
      "\u001b[32m✔\u001b[39m \u001b[34mforcats  \u001b[39m 1.0.0     \u001b[32m✔\u001b[39m \u001b[34mreadr    \u001b[39m 2.1.4\n",
      "\u001b[32m✔\u001b[39m \u001b[34mggplot2  \u001b[39m 3.4.3     \u001b[32m✔\u001b[39m \u001b[34mstringr  \u001b[39m 1.5.0\n",
      "\u001b[32m✔\u001b[39m \u001b[34mlubridate\u001b[39m 1.9.2     \u001b[32m✔\u001b[39m \u001b[34mtibble   \u001b[39m 3.2.1\n",
      "\u001b[32m✔\u001b[39m \u001b[34mpurrr    \u001b[39m 1.0.2     \u001b[32m✔\u001b[39m \u001b[34mtidyr    \u001b[39m 1.3.0\n",
      "── \u001b[1mConflicts\u001b[22m ────────────────────────────────────────── tidyverse_conflicts() ──\n",
      "\u001b[31m✖\u001b[39m \u001b[34mdplyr\u001b[39m::\u001b[32mfilter()\u001b[39m masks \u001b[34mstats\u001b[39m::filter()\n",
      "\u001b[31m✖\u001b[39m \u001b[34mdplyr\u001b[39m::\u001b[32mlag()\u001b[39m    masks \u001b[34mstats\u001b[39m::lag()\n",
      "\u001b[36mℹ\u001b[39m Use the conflicted package (\u001b[3m\u001b[34m<http://conflicted.r-lib.org/>\u001b[39m\u001b[23m) to force all conflicts to become errors\n"
     ]
    }
   ],
   "source": [
    "install.packages(\"ipumsr\")\n",
    "library(ipumsr)\n",
    "library(dplyr)\n",
    "library(tidyverse)\n",
    "library(haven)"
   ]
  },
  {
   "cell_type": "markdown",
   "metadata": {},
   "source": [
    "It turns out that this handy command stops __R__ from defaulting to scientific notation."
   ]
  },
  {
   "cell_type": "code",
   "execution_count": 3,
   "metadata": {
    "collapsed": true
   },
   "outputs": [],
   "source": [
    "options(scipen=999)"
   ]
  },
  {
   "cell_type": "markdown",
   "metadata": {},
   "source": [
    "<h2>Using IPUMS</h2>\n",
    "\n",
    "IPUMS data must be downloaded from their website (or analyzed online, but I don't recommend that option) using an established user account. Like with almost everything in __R__, there are at least 3 ways of working with IPUMS data once you've downloaded your extract from IPUMS and either uploaded it to datahub or installed your own (free) local copy of [RStudio desktop](https://www.rstudio.com/products/rstudio/) to examine the data.\n",
    "\n",
    "There are at least three methods:\n",
    "1. Download .DAT and .XML files from IPUMS and use `ipumsr`\n",
    "2. Download Stata .DTA files from IPUMS and use `read_dta()` from `haven`\n",
    "3. Download .CSV files from IPUMS and use `read.csv()` in base __R__\n",
    "\n",
    "In this notebook, we'll look at the first way: using the `ipumsr` library functions below to read in the data from a .DAT and .XML (a.k.a. DDI) file. To pull this off, you need to have the .DAT and .XML files downloaded and placed into your working directory."
   ]
  },
  {
   "cell_type": "markdown",
   "metadata": {},
   "source": [
    "The following commands pull in my Current Population Survey (CPS) extract `cps_00028`. The file name has some meaning because it will start with the part of IPUMS you've accessed. But the numeric part is unique to you as the user; it just indexes how many queries you've made.\n",
    "\n",
    "The extract drew these variables from the January 2018 wave (job tenure supplement) of the Current Population Survey on IPUMS:\n",
    "\n",
    "````{verbatim}\n",
    "YEAR            Survey year\n",
    "SERIAL          Household serial number\n",
    "MONTH           Month\n",
    "HWTFINL         Household weight, Basic Monthly\n",
    "CPSID           CPSID, household record\n",
    "STATEFIP        State (FIPS code)\n",
    "METRO           Metropolitan central city status\n",
    "PERNUM          Person number in sample unit\n",
    "WTFINL          Final Basic Weight\n",
    "CPSIDP          CPSID, person record\n",
    "AGE             Age\n",
    "SEX             Sex\n",
    "RACE            Race\n",
    "MARST           Marital status\n",
    "VETSTAT         Veteran status\n",
    "HISPAN          Hispanic origin\n",
    "EMPSTAT         Employment status\n",
    "OCC             Occupation\n",
    "IND             Industry\n",
    "CLASSWKR        Class of worker\n",
    "AHRSWORKT       Hours worked last week\n",
    "WKSTAT          Full or part time status\n",
    "EDUC            Educational attainment recode\n",
    "EDCYC           Years of college credit completed\n",
    "EDDIPGED        High school or GED\n",
    "EDHGCGED        Highest grade completed before receiving GED\n",
    "JTYEARS         Length of time worked at current job in years\n",
    "JTYEARAGO       Employment one year ago\n",
    "JTSAME          Doing the same work a year ago\n",
    "JTYPE           Type of business or organization in which you worked last year\n",
    "JTCLASS         Class of worker, Job Tenure Supplement\n",
    "JTIND           Industry one year ago\n",
    "JTOCC           Occupation one year ago\n",
    "JTSUPPWT        Job tenure supplement weight\n",
    "EARNWEEK        Weekly earnings\n",
    "````"
   ]
  },
  {
   "cell_type": "markdown",
   "metadata": {},
   "source": [
    "These files are LOCAL, stored on datahub. The IPUMS model typically requires you to download the dataset and the XML file and place them somewhere. Here, I have downloaded them from IPUMS to my machine, and then I uploaded them to datahub inside the `data` folder in our working directory for class hands-on, `Class Meetings`."
   ]
  },
  {
   "cell_type": "code",
   "execution_count": 4,
   "metadata": {
    "collapsed": false
   },
   "outputs": [
    {
     "name": "stderr",
     "output_type": "stream",
     "text": [
      "Use of data from IPUMS CPS is subject to conditions including that users should cite the data appropriately. Use command `ipums_conditions()` for more details.\n",
      "\n"
     ]
    }
   ],
   "source": [
    "cps_data <- ipumsr::read_ipums_micro(\n",
    "  ddi = \"data/cps_00028.xml\",\n",
    "  data = \"data/cps_00028.dat.gz\"\n",
    ")"
   ]
  },
  {
   "cell_type": "code",
   "execution_count": null,
   "metadata": {
    "collapsed": true
   },
   "outputs": [],
   "source": [
    "# Here is another version of calls that successfully load the data, \n",
    "# here drawing from the unzipped data file cps_00028.dat instead of the gzipped compressed file\n",
    "\n",
    "#cps_ddi <- read_ipums_ddi(\"data/cps_00028.xml\")\n",
    "#cps_data <- read_ipums_micro(cps_ddi, verbose = FALSE)"
   ]
  },
  {
   "cell_type": "code",
   "execution_count": 5,
   "metadata": {
    "collapsed": false
   },
   "outputs": [
    {
     "data": {
      "text/html": [
       "<table class=\"dataframe\">\n",
       "<caption>A tibble: 6 × 35</caption>\n",
       "<thead>\n",
       "\t<tr><th scope=col>YEAR</th><th scope=col>SERIAL</th><th scope=col>MONTH</th><th scope=col>HWTFINL</th><th scope=col>CPSID</th><th scope=col>STATEFIP</th><th scope=col>METRO</th><th scope=col>PERNUM</th><th scope=col>WTFINL</th><th scope=col>CPSIDP</th><th scope=col>⋯</th><th scope=col>EDHGCGED</th><th scope=col>JTYEARS</th><th scope=col>JTYEARAGO</th><th scope=col>JTSAME</th><th scope=col>JTYPE</th><th scope=col>JTCLASS</th><th scope=col>JTIND</th><th scope=col>JTOCC</th><th scope=col>JTSUPPWT</th><th scope=col>EARNWEEK</th></tr>\n",
       "\t<tr><th scope=col>&lt;dbl&gt;</th><th scope=col>&lt;dbl&gt;</th><th scope=col>&lt;int+lbl&gt;</th><th scope=col>&lt;dbl&gt;</th><th scope=col>&lt;dbl&gt;</th><th scope=col>&lt;int+lbl&gt;</th><th scope=col>&lt;int+lbl&gt;</th><th scope=col>&lt;dbl&gt;</th><th scope=col>&lt;dbl&gt;</th><th scope=col>&lt;dbl&gt;</th><th scope=col>⋯</th><th scope=col>&lt;int+lbl&gt;</th><th scope=col>&lt;dbl+lbl&gt;</th><th scope=col>&lt;int+lbl&gt;</th><th scope=col>&lt;int+lbl&gt;</th><th scope=col>&lt;int+lbl&gt;</th><th scope=col>&lt;int+lbl&gt;</th><th scope=col>&lt;dbl&gt;</th><th scope=col>&lt;dbl&gt;</th><th scope=col>&lt;dbl&gt;</th><th scope=col>&lt;dbl+lbl&gt;</th></tr>\n",
       "</thead>\n",
       "<tbody>\n",
       "\t<tr><td>2018</td><td>1</td><td>1</td><td>1490.589</td><td>20161000000100</td><td>1</td><td>2</td><td>1</td><td>2158.949</td><td>20161000000101</td><td>⋯</td><td>99</td><td>99.99</td><td>99</td><td>99</td><td>99</td><td>99</td><td>0</td><td>0</td><td>   0.000</td><td>9999.99</td></tr>\n",
       "\t<tr><td>2018</td><td>1</td><td>1</td><td>1490.589</td><td>20161000000100</td><td>1</td><td>2</td><td>2</td><td>1490.589</td><td>20161000000102</td><td>⋯</td><td>99</td><td>99.99</td><td>99</td><td>99</td><td>99</td><td>99</td><td>0</td><td>0</td><td>   0.000</td><td>9999.99</td></tr>\n",
       "\t<tr><td>2018</td><td>2</td><td>1</td><td>1609.490</td><td>20161200000200</td><td>1</td><td>2</td><td>1</td><td>1420.746</td><td>20161200000201</td><td>⋯</td><td>99</td><td> 1.75</td><td>99</td><td> 2</td><td>99</td><td>99</td><td>0</td><td>0</td><td>1652.859</td><td>9999.99</td></tr>\n",
       "\t<tr><td>2018</td><td>2</td><td>1</td><td>1609.490</td><td>20161200000200</td><td>1</td><td>2</td><td>2</td><td>1609.490</td><td>20161200000202</td><td>⋯</td><td>99</td><td>99.99</td><td>99</td><td>99</td><td>99</td><td>99</td><td>0</td><td>0</td><td>   0.000</td><td>9999.99</td></tr>\n",
       "\t<tr><td>2018</td><td>3</td><td>1</td><td>1797.041</td><td>20180100000300</td><td>1</td><td>2</td><td>1</td><td>2053.275</td><td>20180100000301</td><td>⋯</td><td>99</td><td> 1.08</td><td>99</td><td> 2</td><td>99</td><td>99</td><td>0</td><td>0</td><td>2388.727</td><td>9999.99</td></tr>\n",
       "\t<tr><td>2018</td><td>3</td><td>1</td><td>1797.041</td><td>20180100000300</td><td>1</td><td>2</td><td>2</td><td>1797.041</td><td>20180100000302</td><td>⋯</td><td>99</td><td> 5.00</td><td>99</td><td> 2</td><td>99</td><td>99</td><td>0</td><td>0</td><td>2082.874</td><td>9999.99</td></tr>\n",
       "</tbody>\n",
       "</table>\n"
      ],
      "text/latex": [
       "A tibble: 6 × 35\n",
       "\\begin{tabular}{lllllllllllllllllllll}\n",
       " YEAR & SERIAL & MONTH & HWTFINL & CPSID & STATEFIP & METRO & PERNUM & WTFINL & CPSIDP & ⋯ & EDHGCGED & JTYEARS & JTYEARAGO & JTSAME & JTYPE & JTCLASS & JTIND & JTOCC & JTSUPPWT & EARNWEEK\\\\\n",
       " <dbl> & <dbl> & <int+lbl> & <dbl> & <dbl> & <int+lbl> & <int+lbl> & <dbl> & <dbl> & <dbl> & ⋯ & <int+lbl> & <dbl+lbl> & <int+lbl> & <int+lbl> & <int+lbl> & <int+lbl> & <dbl> & <dbl> & <dbl> & <dbl+lbl>\\\\\n",
       "\\hline\n",
       "\t 2018 & 1 & 1 & 1490.589 & 20161000000100 & 1 & 2 & 1 & 2158.949 & 20161000000101 & ⋯ & 99 & 99.99 & 99 & 99 & 99 & 99 & 0 & 0 &    0.000 & 9999.99\\\\\n",
       "\t 2018 & 1 & 1 & 1490.589 & 20161000000100 & 1 & 2 & 2 & 1490.589 & 20161000000102 & ⋯ & 99 & 99.99 & 99 & 99 & 99 & 99 & 0 & 0 &    0.000 & 9999.99\\\\\n",
       "\t 2018 & 2 & 1 & 1609.490 & 20161200000200 & 1 & 2 & 1 & 1420.746 & 20161200000201 & ⋯ & 99 &  1.75 & 99 &  2 & 99 & 99 & 0 & 0 & 1652.859 & 9999.99\\\\\n",
       "\t 2018 & 2 & 1 & 1609.490 & 20161200000200 & 1 & 2 & 2 & 1609.490 & 20161200000202 & ⋯ & 99 & 99.99 & 99 & 99 & 99 & 99 & 0 & 0 &    0.000 & 9999.99\\\\\n",
       "\t 2018 & 3 & 1 & 1797.041 & 20180100000300 & 1 & 2 & 1 & 2053.275 & 20180100000301 & ⋯ & 99 &  1.08 & 99 &  2 & 99 & 99 & 0 & 0 & 2388.727 & 9999.99\\\\\n",
       "\t 2018 & 3 & 1 & 1797.041 & 20180100000300 & 1 & 2 & 2 & 1797.041 & 20180100000302 & ⋯ & 99 &  5.00 & 99 &  2 & 99 & 99 & 0 & 0 & 2082.874 & 9999.99\\\\\n",
       "\\end{tabular}\n"
      ],
      "text/markdown": [
       "\n",
       "A tibble: 6 × 35\n",
       "\n",
       "| YEAR &lt;dbl&gt; | SERIAL &lt;dbl&gt; | MONTH &lt;int+lbl&gt; | HWTFINL &lt;dbl&gt; | CPSID &lt;dbl&gt; | STATEFIP &lt;int+lbl&gt; | METRO &lt;int+lbl&gt; | PERNUM &lt;dbl&gt; | WTFINL &lt;dbl&gt; | CPSIDP &lt;dbl&gt; | ⋯ ⋯ | EDHGCGED &lt;int+lbl&gt; | JTYEARS &lt;dbl+lbl&gt; | JTYEARAGO &lt;int+lbl&gt; | JTSAME &lt;int+lbl&gt; | JTYPE &lt;int+lbl&gt; | JTCLASS &lt;int+lbl&gt; | JTIND &lt;dbl&gt; | JTOCC &lt;dbl&gt; | JTSUPPWT &lt;dbl&gt; | EARNWEEK &lt;dbl+lbl&gt; |\n",
       "|---|---|---|---|---|---|---|---|---|---|---|---|---|---|---|---|---|---|---|---|---|\n",
       "| 2018 | 1 | 1 | 1490.589 | 20161000000100 | 1 | 2 | 1 | 2158.949 | 20161000000101 | ⋯ | 99 | 99.99 | 99 | 99 | 99 | 99 | 0 | 0 |    0.000 | 9999.99 |\n",
       "| 2018 | 1 | 1 | 1490.589 | 20161000000100 | 1 | 2 | 2 | 1490.589 | 20161000000102 | ⋯ | 99 | 99.99 | 99 | 99 | 99 | 99 | 0 | 0 |    0.000 | 9999.99 |\n",
       "| 2018 | 2 | 1 | 1609.490 | 20161200000200 | 1 | 2 | 1 | 1420.746 | 20161200000201 | ⋯ | 99 |  1.75 | 99 |  2 | 99 | 99 | 0 | 0 | 1652.859 | 9999.99 |\n",
       "| 2018 | 2 | 1 | 1609.490 | 20161200000200 | 1 | 2 | 2 | 1609.490 | 20161200000202 | ⋯ | 99 | 99.99 | 99 | 99 | 99 | 99 | 0 | 0 |    0.000 | 9999.99 |\n",
       "| 2018 | 3 | 1 | 1797.041 | 20180100000300 | 1 | 2 | 1 | 2053.275 | 20180100000301 | ⋯ | 99 |  1.08 | 99 |  2 | 99 | 99 | 0 | 0 | 2388.727 | 9999.99 |\n",
       "| 2018 | 3 | 1 | 1797.041 | 20180100000300 | 1 | 2 | 2 | 1797.041 | 20180100000302 | ⋯ | 99 |  5.00 | 99 |  2 | 99 | 99 | 0 | 0 | 2082.874 | 9999.99 |\n",
       "\n"
      ],
      "text/plain": [
       "  YEAR SERIAL MONTH HWTFINL  CPSID          STATEFIP METRO PERNUM WTFINL  \n",
       "1 2018 1      1     1490.589 20161000000100 1        2     1      2158.949\n",
       "2 2018 1      1     1490.589 20161000000100 1        2     2      1490.589\n",
       "3 2018 2      1     1609.490 20161200000200 1        2     1      1420.746\n",
       "4 2018 2      1     1609.490 20161200000200 1        2     2      1609.490\n",
       "5 2018 3      1     1797.041 20180100000300 1        2     1      2053.275\n",
       "6 2018 3      1     1797.041 20180100000300 1        2     2      1797.041\n",
       "  CPSIDP         ⋯ EDHGCGED JTYEARS JTYEARAGO JTSAME JTYPE JTCLASS JTIND JTOCC\n",
       "1 20161000000101 ⋯ 99       99.99   99        99     99    99      0     0    \n",
       "2 20161000000102 ⋯ 99       99.99   99        99     99    99      0     0    \n",
       "3 20161200000201 ⋯ 99        1.75   99         2     99    99      0     0    \n",
       "4 20161200000202 ⋯ 99       99.99   99        99     99    99      0     0    \n",
       "5 20180100000301 ⋯ 99        1.08   99         2     99    99      0     0    \n",
       "6 20180100000302 ⋯ 99        5.00   99         2     99    99      0     0    \n",
       "  JTSUPPWT EARNWEEK\n",
       "1    0.000 9999.99 \n",
       "2    0.000 9999.99 \n",
       "3 1652.859 9999.99 \n",
       "4    0.000 9999.99 \n",
       "5 2388.727 9999.99 \n",
       "6 2082.874 9999.99 "
      ]
     },
     "metadata": {},
     "output_type": "display_data"
    }
   ],
   "source": [
    "head(cps_data)"
   ]
  },
  {
   "cell_type": "markdown",
   "metadata": {},
   "source": [
    "Let's clean up the data. But what variables need cleaning? You could browse the documentation for each one, or you could look at a quick `summary()` for suspect variables. Seasoned users of IPUMS will know that earnings and income contain real data <i>and codes for missing data</i> as explained for `EARNWEEK` [here for example](https://cps.ipums.org/cps-action/variables/EARNWEEK#codes_section)."
   ]
  },
  {
   "cell_type": "code",
   "execution_count": null,
   "metadata": {
    "collapsed": true
   },
   "outputs": [],
   "source": [
    "summary(cps_data$EARNWEEK)"
   ]
  },
  {
   "cell_type": "markdown",
   "metadata": {},
   "source": [
    "Let's recode to drop those missing to NA's, creating a new variable `earnweek`. __R__ is case-sensitive, so the main challenge is remembering what we have done ourselves! "
   ]
  },
  {
   "cell_type": "code",
   "execution_count": null,
   "metadata": {
    "collapsed": true
   },
   "outputs": [],
   "source": [
    "cps_data <- mutate(cps_data, \n",
    "                   earnweek = ifelse(EARNWEEK < 9999.99, EARNWEEK, NA)\n",
    "                  )"
   ]
  },
  {
   "cell_type": "markdown",
   "metadata": {},
   "source": [
    "Let's check our work:"
   ]
  },
  {
   "cell_type": "code",
   "execution_count": null,
   "metadata": {
    "collapsed": true
   },
   "outputs": [],
   "source": [
    "summary(cps_data$earnweek)"
   ]
  },
  {
   "cell_type": "markdown",
   "metadata": {},
   "source": [
    "Looks much better.\n",
    "\n",
    "And let's create a new variable equal to the log of weekly earnings. Economists pretty much always take the natural log of money variables like earnings, income, or wealth, especially when they are going to appear on the left-hand side of the regression. "
   ]
  },
  {
   "cell_type": "code",
   "execution_count": null,
   "metadata": {
    "collapsed": true
   },
   "outputs": [],
   "source": [
    "cps_data <- mutate(cps_data, \n",
    "                   logearnweek = log(earnweek)\n",
    "                  )"
   ]
  },
  {
   "cell_type": "markdown",
   "metadata": {},
   "source": [
    "A standard trick: when gender identity is binary in the data, it's usually coded for male == 1 and female == 2. Simply subtract 1 to get an indicator for female identity. Many Census and historical surveys still call gender identity \"sex,\" while others follow a more modern naming approach."
   ]
  },
  {
   "cell_type": "code",
   "execution_count": null,
   "metadata": {
    "collapsed": true
   },
   "outputs": [],
   "source": [
    "cps_data <- mutate(cps_data, \n",
    "                   female = SEX - 1\n",
    "                  )"
   ]
  },
  {
   "cell_type": "markdown",
   "metadata": {},
   "source": [
    "The job tenure variable also has NA's coded as numbers, so let's drop those. Here's the check:"
   ]
  },
  {
   "cell_type": "code",
   "execution_count": null,
   "metadata": {
    "collapsed": true
   },
   "outputs": [],
   "source": [
    "summary(cps_data$JTYEARS)"
   ]
  },
  {
   "cell_type": "code",
   "execution_count": null,
   "metadata": {
    "collapsed": true
   },
   "outputs": [],
   "source": [
    "cps_data <- mutate(cps_data, \n",
    "                   jtyears = ifelse(JTYEARS < 99.98, JTYEARS, NA)\n",
    "                  )"
   ]
  },
  {
   "cell_type": "code",
   "execution_count": null,
   "metadata": {
    "collapsed": true
   },
   "outputs": [],
   "source": [
    "summary(cps_data$jtyears)"
   ]
  },
  {
   "cell_type": "markdown",
   "metadata": {},
   "source": [
    "Looks reasonable."
   ]
  },
  {
   "cell_type": "markdown",
   "metadata": {},
   "source": [
    "The `HISPAN` variable takes on many values, [as shown here in the documentation](https://cps.ipums.org/cps-action/variables/HISPAN#codes_section). None missing, so a useful way forward is to assign 0 for `HISPAN` == 0 and 1 for everything else, which code different Hispanic identities. The code below does this:"
   ]
  },
  {
   "cell_type": "code",
   "execution_count": null,
   "metadata": {
    "collapsed": true
   },
   "outputs": [],
   "source": [
    "cps_data <- mutate(cps_data, \n",
    "                   hispanic = ifelse(HISPAN == 0, 0, 1)\n",
    "                  )"
   ]
  },
  {
   "cell_type": "markdown",
   "metadata": {},
   "source": [
    "Here is my preferred quadrichotomous measure of race/ethnicity for the U.S. in 2022: \n",
    "1. Non-Hispanic white\n",
    "2. Non-Hispanic Black\n",
    "3. Hispanic, any race\n",
    "4. Non-Hispanic other race \n",
    "\n",
    "Let's create `raceth` that measures that:"
   ]
  },
  {
   "cell_type": "code",
   "execution_count": null,
   "metadata": {
    "collapsed": true
   },
   "outputs": [],
   "source": [
    "cps_data <- mutate(cps_data, \n",
    "                   raceth = ifelse(RACE == 100 & hispanic == 0, 1, \n",
    "                                   ifelse(RACE == 200 & hispanic == 0, 2,\n",
    "                                          ifelse(hispanic == 1, 3, 4)))\n",
    "                   )"
   ]
  },
  {
   "cell_type": "markdown",
   "metadata": {},
   "source": [
    "Marital status is measured in `MARST`, and codes 1 and 2 mean the respondent is married, spouse present or absent."
   ]
  },
  {
   "cell_type": "code",
   "execution_count": null,
   "metadata": {
    "collapsed": true
   },
   "outputs": [],
   "source": [
    "cps_data <- mutate(cps_data, \n",
    "                   married = ifelse(MARST == 1 | MARST == 2, 1, 0)\n",
    "                  )"
   ]
  },
  {
   "cell_type": "markdown",
   "metadata": {},
   "source": [
    "Let's look at the variable `EDUC`, which codes educational attainment. This code creates a more legible table of tabulated counts per value:"
   ]
  },
  {
   "cell_type": "code",
   "execution_count": null,
   "metadata": {
    "collapsed": true
   },
   "outputs": [],
   "source": [
    "temp = data.frame(table(cps_data$EDUC))\n",
    "temp"
   ]
  },
  {
   "cell_type": "markdown",
   "metadata": {},
   "source": [
    "These definitely aren't years of education. As [shown in the documentation](https://cps.ipums.org/cps-action/variables/EDUC#codes_section), this is what we're looking at:"
   ]
  },
  {
   "cell_type": "markdown",
   "metadata": {},
   "source": [
    "````{verbatim}\n",
    "*                           NIU or blank |    1\n",
    "*                      None or preschool |    2\n",
    "*                   Grades 1, 2, 3, or 4 |   10\n",
    "*                          Grades 5 or 6 |   20\n",
    "*                          Grades 7 or 8 |   30\n",
    "*                                Grade 9 |   40\n",
    "*                               Grade 10 |   50\n",
    "*                               Grade 11 |   60\n",
    "*                 12th grade, no diploma |   71\n",
    "*      High school diploma or equivalent |   73\n",
    "*             Some college but no degree |   81\n",
    "*Associate's degree, occupational/vocati |   91\n",
    "*   Associate's degree, academic program |   92\n",
    "*                      Bachelor's degree |  111\n",
    "*                        Master's degree |  123\n",
    "*             Professional school degree |  124\n",
    "*                       Doctorate degree |  125\n",
    "````"
   ]
  },
  {
   "cell_type": "markdown",
   "metadata": {},
   "source": [
    "This is an elegant way of recoding `EDUC` into something that economists think is useful: years of education attained. Here, we use `case_when()`, which is part of the `dpylr` package. Special thanks to UC Berkeley Demography Ph.D. student Casey Breen for this code.\n",
    "\n",
    "The question of exactly how to map attainment categories to years of attainment is a complicated one. I've tried to adapt what [David Jaeger (2003) suggests](https://www.sciencedirect.com/science/article/pii/S0165176502002598).\n",
    "\n",
    "(Another way of proceeding altogether would be to generate indicator variables for levels of attainment.)"
   ]
  },
  {
   "cell_type": "code",
   "execution_count": null,
   "metadata": {
    "collapsed": true
   },
   "outputs": [],
   "source": [
    "cps_data <- cps_data %>%\n",
    "mutate(edyrs = case_when(\n",
    "    EDUC == 2 ~ 0,\n",
    "    EDUC == 10 ~ 2.5,\n",
    "    EDUC == 20 ~ 5.5,\n",
    "    EDUC == 30 ~ 7.5,\n",
    "    EDUC == 40 ~ 9,\n",
    "    EDUC == 50 ~ 10,\n",
    "    EDUC == 60 ~ 11,\n",
    "    EDUC == 71 ~ 12,\n",
    "    EDUC == 73 ~ 12,\n",
    "    EDUC == 81 ~ 14,\n",
    "    EDUC == 91 ~ 14,\n",
    "    EDUC == 92 ~ 14,\n",
    "    EDUC == 111 ~ 16,\n",
    "    EDUC == 123 ~ 18,\n",
    "    EDUC == 124 ~ 18,\n",
    "    EDUC == 125 ~ 18\n",
    "    ))"
   ]
  },
  {
   "cell_type": "markdown",
   "metadata": {},
   "source": [
    "Now let's look at what's here:"
   ]
  },
  {
   "cell_type": "code",
   "execution_count": null,
   "metadata": {
    "collapsed": true
   },
   "outputs": [],
   "source": [
    "temp = data.frame(table(cps_data$edyrs))\n",
    "temp"
   ]
  },
  {
   "cell_type": "markdown",
   "metadata": {},
   "source": [
    "Here is another bunch of code that is far uglier but produces the same thing, using a ton of nested `ifelse()` calls."
   ]
  },
  {
   "cell_type": "code",
   "execution_count": null,
   "metadata": {
    "collapsed": true
   },
   "outputs": [],
   "source": [
    "#cps_data <- mutate(cps_data, edyrs = ifelse(EDUC == 2, 0,\n",
    "#                                            ifelse(EDUC == 10, 2.5,\n",
    "#                                                  ifelse(EDUC == 20, 5.5,\n",
    "#                                                        ifelse(EDUC == 30, 7.5,\n",
    "#                                                              ifelse(EDUC == 40, 9,\n",
    "#                                                                    ifelse(EDUC == 50, 10,\n",
    "#                                                                          ifelse(EDUC == 60, 11,\n",
    "#                                                                                ifelse(EDUC == 71, 12,\n",
    "#                                                                                      ifelse(EDUC == 73, 12,\n",
    "#                                                                                            ifelse(EDUC == 81, 14,\n",
    "#                                                                                                  ifelse(EDUC == 91, 14,\n",
    "#                                                                                                        ifelse(EDUC == 92, 14,\n",
    "#                                                                                                              ifelse(EDUC == 111, 16,\n",
    "#                                                                                                                    ifelse(EDUC == 123, 18,\n",
    "#                                                                                                                          ifelse(EDUC == 124, 18,\n",
    "#                                                                                                                                ifelse(EDUC == 125, 18, NA)\n",
    "#                                                                                                                                ))))))))))))))\n",
    "#                                            )\n",
    "#                   )"
   ]
  },
  {
   "cell_type": "markdown",
   "metadata": {},
   "source": [
    "Finally, here are a few more recodings. Recall our earlier discussion that labor economists like to measure <i>experience</i> as years of age minus years of education. Luckily `AGE` is not goofily coded. It's just years of age:"
   ]
  },
  {
   "cell_type": "code",
   "execution_count": null,
   "metadata": {
    "collapsed": true
   },
   "outputs": [],
   "source": [
    "summary(cps_data$AGE)"
   ]
  },
  {
   "cell_type": "code",
   "execution_count": null,
   "metadata": {
    "collapsed": true
   },
   "outputs": [],
   "source": [
    "cps_data <- mutate(cps_data, \n",
    "                   exper = AGE - edyrs)"
   ]
  },
  {
   "cell_type": "code",
   "execution_count": null,
   "metadata": {
    "collapsed": true
   },
   "outputs": [],
   "source": [
    "cps_data <- mutate(cps_data, \n",
    "                   expersq = exper^2)"
   ]
  },
  {
   "cell_type": "markdown",
   "metadata": {},
   "source": [
    "With all of these recodings, we are finally ready to go. Let's run this model of log earnings, where the treatment variables of interest are a binary measure of female gender identity and years of education, and we have a set of controls that includes race/ethnicity, years of experience, years of experience squared, and also years of job tenure:\n",
    "\n",
    "$$\n",
    "\\ln Y_i = \\alpha + \\beta^f \\ female_i + \\beta^e \\ educ_i + B \\ controls_i + \\epsilon_i\n",
    "$$\n",
    "\n",
    "Let's also restrict the sample to workers aged 25-64. We do that with a call to `subset()` in the `data = ` option."
   ]
  },
  {
   "cell_type": "code",
   "execution_count": null,
   "metadata": {
    "collapsed": true
   },
   "outputs": [],
   "source": [
    "cps_reg1 <- lm(logearnweek ~ female \n",
    "               + edyrs \n",
    "               + factor(raceth) \n",
    "               + exper + expersq \n",
    "               + jtyears, \n",
    "               data = subset(cps_data, AGE >= 25 & AGE <= 64)\n",
    "               )\n",
    "summary(cps_reg1)"
   ]
  },
  {
   "cell_type": "markdown",
   "metadata": {},
   "source": [
    "Do you remember the tricks about quadratics? What is the $x$-coordinate of the vertex? If the (partial) function we have is:\n",
    "\n",
    "$$\n",
    "\\ln Y_i = a \\cdot exper_i^2 + b \\cdot exper_i + c\n",
    "$$\n",
    "\n",
    "then the vertex falls where $exper_i = -b \\ / \\ 2a$. You can also find this by differentiating the formula above and setting the derivative to zero, which reveals that $2a \\cdot exper_i + b = 0$, and solving for $exper_i$. \n",
    "\n",
    "Use this formula and plug in the coefficient on `exper` for $b$ and the coefficient on `expersq` for $a$ to find:"
   ]
  },
  {
   "cell_type": "code",
   "execution_count": null,
   "metadata": {
    "collapsed": true
   },
   "outputs": [],
   "source": [
    "0.02694388/(2*0.00045188)\n",
    "\n",
    "-coef(cps_reg1)[\"exper\"] / (2 * coef(cps_reg1)[\"expersq\"])"
   ]
  },
  {
   "cell_type": "markdown",
   "metadata": {},
   "source": [
    "In words, log earnings rise with experience up to about year 30. For a college graduate, that would be around age 52."
   ]
  },
  {
   "cell_type": "markdown",
   "metadata": {},
   "source": [
    "<hr>"
   ]
  },
  {
   "cell_type": "markdown",
   "metadata": {},
   "source": [
    "What about marital status? We didn't include that, nor did we control for a bunch of other interesting variables in the data, like veteran status and other characteristics of job tenure. Let's try inserting `married` to see what we find:"
   ]
  },
  {
   "cell_type": "code",
   "execution_count": null,
   "metadata": {
    "collapsed": true
   },
   "outputs": [],
   "source": [
    "cps_reg2 <- lm(logearnweek ~ female \n",
    "               + edyrs \n",
    "               + factor(raceth) \n",
    "               + exper + expersq \n",
    "               + jtyears \n",
    "               + married, \n",
    "               data = subset(cps_data, AGE >= 25 & AGE <= 64)\n",
    "               )\n",
    "summary(cps_reg2)"
   ]
  },
  {
   "cell_type": "markdown",
   "metadata": {},
   "source": [
    "Describe what you see. Are these results fundamentally different or mostly the same as the results without controlling for `married()`?"
   ]
  },
  {
   "cell_type": "markdown",
   "metadata": {},
   "source": []
  },
  {
   "cell_type": "markdown",
   "metadata": {},
   "source": [
    "<hr>"
   ]
  },
  {
   "cell_type": "markdown",
   "metadata": {},
   "source": [
    "<h2>Sampling weights</h2>\n",
    "\n",
    "Early samples like the early public-use microdata drawn from the decennial Census were simple 5% cuts of the entire Census. That would mean that out of the [334 million resident population in the U.S. on January 1, 2023](https://www.census.gov/library/stories/2022/12/happy-new-year-2023.html), a straight 5% sample would select 5 out of every 100 people at random, for a total of 16.7 million people. This kind of design is found in the public-use version of the 1980 Census in IPUMS, for example.\n",
    "\n",
    "But modern surveys usually have a more complex design, because one would like to have statistical power to understand key subgroups. The share of people in the U.S. who identify as Black or African-American was [13.6% in 2022](https://www.census.gov/quickfacts/fact/table/US/PST045222). Not all population subgroup is <i>oversampled</i>, meaning included at higher rates than non-Hispanic white people, but many are. This is done in order to facilitate analysis of well-being among those subgroups. \n",
    "\n",
    "<b>Sampling weights</b> are supplied in modern surveys like the CPS and others to help create sample moments, like the sample average, that better approximate population moments. We can use sampling weights in regression analysis using the `weight =` option in `lm()` if we want.\n",
    "\n",
    "But <b>sampling weights might not change the results of OLS very much</b>, if the regression already controls for demographic variables like age, gender, and race/ethnicity. The reason is that the sampling weights are usually functions of those demographic variables, so estimating OLS with sample weights might be redundant."
   ]
  },
  {
   "cell_type": "markdown",
   "metadata": {},
   "source": [
    "We have 2 sampling weights in the extract: `WTFINL` the final basic weight, and `JTSUPPWT` the job tenure supplement weight. If we use job tenure variables in a model, we should use the latter weight. Let's give it a try."
   ]
  },
  {
   "cell_type": "code",
   "execution_count": null,
   "metadata": {
    "collapsed": true
   },
   "outputs": [],
   "source": [
    "cps_reg3 <- lm(logearnweek ~ female \n",
    "               + edyrs \n",
    "               + factor(raceth) \n",
    "               + exper + expersq \n",
    "               + jtyears \n",
    "               + married, \n",
    "               data = subset(cps_data, AGE >= 25 & AGE <= 64),\n",
    "               weight = JTSUPPWT\n",
    "              )\n",
    "summary(cps_reg3)"
   ]
  },
  {
   "cell_type": "markdown",
   "metadata": {},
   "source": [
    "Describe what you see. Are these results fundamentally different or mostly the same as the results without sampling weights?"
   ]
  },
  {
   "cell_type": "markdown",
   "metadata": {},
   "source": []
  },
  {
   "cell_type": "markdown",
   "metadata": {},
   "source": [
    "<div style=\"text-align: right\"> <span style=\"font-family:Papyrus; \">And they lived happily ever after. The End.</span></div>"
   ]
  }
 ],
 "metadata": {
  "kernelspec": {
   "display_name": "R",
   "language": "R",
   "name": "ir"
  },
  "language_info": {
   "codemirror_mode": "r",
   "file_extension": ".r",
   "mimetype": "text/x-r-source",
   "name": "R",
   "pygments_lexer": "r",
   "version": "4.2.1"
  }
 },
 "nbformat": 4,
 "nbformat_minor": 5
}
