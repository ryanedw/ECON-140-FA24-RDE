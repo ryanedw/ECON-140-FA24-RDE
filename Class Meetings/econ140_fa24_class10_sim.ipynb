{
 "cells": [
  {
   "cell_type": "markdown",
   "id": "c93f79a0",
   "metadata": {},
   "source": [
    "<img src=\"images/econ140R_logo.png\" width=\"200\" />"
   ]
  },
  {
   "cell_type": "markdown",
   "id": "28bfe784",
   "metadata": {},
   "source": [
    "<h1>ECON 140R Class 10_sim</h1>"
   ]
  },
  {
   "cell_type": "markdown",
   "id": "90b66eed",
   "metadata": {},
   "source": [
    "<h2>Simulating bad controls</h2>\n",
    "\n",
    "<h2>Learning objectives:</h2>\n",
    "\n",
    "1. A \"Monte Carlo\" simulation allows us to create a toy reality where we can play and learn  \n",
    "2. \"Bad controls\" cut off avenues through which a treatment affects an outcome\n",
    "3. \"Good controls\" help us compare apples to apples"
   ]
  },
  {
   "cell_type": "markdown",
   "id": "53178b74",
   "metadata": {},
   "source": [
    "<h2>Bad controls</h2>"
   ]
  },
  {
   "cell_type": "markdown",
   "id": "e43d6a3e",
   "metadata": {},
   "source": [
    "The problem of bad controls can be simple, and it can also be complicated. Scott Cunningham works through a <b>complicated</b> version of bad controls in the case of gender inequality in earnings in <i>Causal Inference: The Mixtape</i> [section 3.1.5](https://mixtape.scunning.com/03-directed_acyclical_graphs#discrimination-and-collider-bias), with an example drawn from work with Erin Hengel. Their example assumes omitted variable bias stemming from unobserved ability, which like gender discrimination also affects occupation and earnings. Omitting ability can even switch the sign of gender discrimination."
   ]
  },
  {
   "cell_type": "markdown",
   "id": "2d2382c6-4ce4-4200-af5a-23edf2eea2f7",
   "metadata": {},
   "source": [
    "A <b>simpler</b> point is that when we run OLS on a log earnings equation like this:\n",
    "\n",
    "$$\n",
    "\\log w_i = \\alpha + \\beta \\ female_i + \\gamma \\ occupation_i + \\epsilon_i\n",
    "$$\n",
    "\n",
    "then our estimate of $\\beta$ is the <i>marginal effect</i> of gender discrimination on the log wage, where occupation is held constant. In the language of calculus, $\\beta$ is the partial derivative of $\\log w_i$ with respect to gender, not the total derivative. \n",
    "\n",
    "If gender discrimination also affects occupation, this model will attribute that effect solely to occupation and not at all to the female indicator variable. If the math is helpful, the key points are that the partial derivative is:\n",
    "\n",
    "$$\n",
    "\\frac{\\partial \\log w_i}{\\partial \\ female_i} = \\beta\n",
    "$$\n",
    "\n",
    "and the total derivative is:\n",
    "$$\n",
    "\\frac{d \\log w_i}{d \\ female_i} = \\beta + \\gamma \\frac{\\partial \\ occupation_i}{\\partial \\ female_i} = \\ ?\n",
    "$$"
   ]
  },
  {
   "cell_type": "code",
   "execution_count": null,
   "id": "095bfca5-d3e6-4834-8af1-a0efd8e6219d",
   "metadata": {},
   "outputs": [],
   "source": [
    "library(tidyverse)"
   ]
  },
  {
   "cell_type": "markdown",
   "id": "44bc9c04-77ad-4b04-9c77-3b4c7c19c570",
   "metadata": {},
   "source": [
    "Let us simulate a dataset with 10,000 observations split equally between self-identified males and females. Thanks to Scott Cunningham's code, we can do this by constructing a `tibble()`, with calls to random number generators `runif()` and `rnorm()`. We begin with males and females, and then we create an occupation variable and a log wage, both with baked-in gender discrimination:\n",
    "$$\n",
    "occupation_i = \\alpha^o + \\beta^o \\ female_i + \\nu^o_i\n",
    "$$\n",
    "$$\n",
    "\\log w_i = \\alpha^w + \\beta^w \\ female_i + \\gamma^w \\ occupation_i + \\nu^w_i\n",
    "$$\n",
    "\"Occupation\" here is proxied by a single index, which you could think of as occupational prestige.\n",
    "When the $\\beta$'s are negative, there is gender discrimination penalizing females."
   ]
  },
  {
   "cell_type": "markdown",
   "id": "d30fb3b6-06c3-422e-87ec-cbc09bb0ba1b",
   "metadata": {},
   "source": [
    "It's helpful to seed the random number generator with some parameter, so we can reproduce the results. I like to use today's date."
   ]
  },
  {
   "cell_type": "code",
   "execution_count": null,
   "id": "cbe8f46b-9fb1-46f4-afb4-e87dafa363fd",
   "metadata": {},
   "outputs": [],
   "source": [
    "set.seed(20240930)"
   ]
  },
  {
   "cell_type": "code",
   "execution_count": null,
   "id": "3fe2d54f",
   "metadata": {},
   "outputs": [],
   "source": [
    "ao = 1  \n",
    "bo = -2 # gender discrimination in occupation\n",
    "\n",
    "aw = 3.6\n",
    "bw = -0.3 # gender discrimination in wages\n",
    "gw = 0.2  # effect of occupation on wages\n",
    "\n",
    "data_disc_1k_1 <- tibble(\n",
    "    female     = ifelse(runif(10000)>=0.5,1,0),\n",
    "    occupation = ao + bo*female + rnorm(10000, mean = 0, sd = 0.1),\n",
    "    logwage    = aw + bw*female + gw*occupation + rnorm(10000, mean = 0, sd = 0.1) \n",
    ")"
   ]
  },
  {
   "cell_type": "markdown",
   "id": "f4f55129-8b04-4c44-b49b-a2ba5fe6455a",
   "metadata": {},
   "source": [
    "Let's now examine what OLS returns in short and long regressions. In the short regression, we model only the effect of gender discrimination: \n",
    "$$\n",
    "\\log w_i = \\alpha^s + \\beta^s \\ female_i + \\epsilon^s_i\n",
    "$$\n",
    "In the long regression, we also control for the effect of occupation:\n",
    "$$\n",
    "\\log w_i = \\alpha^l + \\beta^l \\ female_i + \\gamma^l \\ occupation_i + \\epsilon^l_i\n",
    "$$\n",
    "\n",
    "These are identical to the data-generating relationships written above, but it is useful to keep them separate for reasons that will become clear shortly. Here is the short regression:"
   ]
  },
  {
   "cell_type": "code",
   "execution_count": null,
   "id": "2e210cd5-076b-4349-b4c8-f53eabd38d07",
   "metadata": {},
   "outputs": [],
   "source": [
    "reg_1_short <- lm(logwage ~ female,\n",
    "                  data = data_disc_1k_1)\n",
    "summary(reg_1_short)"
   ]
  },
  {
   "cell_type": "markdown",
   "id": "470a6239-114a-49c5-a599-83d22ffc4cfe",
   "metadata": {},
   "source": [
    "In the short regression above, the effect of gender discrimination is quite large: $\\beta^s = -0.70$. Because there are no other variables on the right-hand side, this is actually the total derivative of the log wage with respect to $female_i$, and we can see \n",
    "$$ \n",
    "\\beta^s = -0.70 = \\beta^w + \\gamma^w \\times \\beta^o = -0.3 - 0.2 \\times 2 = -0.3 - 0.4 = -0.70\n",
    "$$\n",
    "\n",
    "This $\\beta^s$ picks up the direct effect of gender discrimination on wages, and it also picks up its indirect effect through occupation, <i>because we are not controlling for occupation</i>. What if we did? Here is the long regression:"
   ]
  },
  {
   "cell_type": "code",
   "execution_count": null,
   "id": "7729ae04-f7d3-4db6-964f-520fa57fb43a",
   "metadata": {},
   "outputs": [],
   "source": [
    "reg_1_long <- lm(logwage ~ female\n",
    "                 + occupation,\n",
    "                 data_disc_1k_1)\n",
    "summary(reg_1_long)"
   ]
  },
  {
   "cell_type": "markdown",
   "id": "96b8046a-af57-4e46-abab-31dc91abc794",
   "metadata": {},
   "source": [
    "We see a very different story emerge here, because controlling for occupation <i>shuts it off as a channel of causality</i> running from gender discrimination through occupation into wages. In the long regression, we see exactly the data-generating relationship that we posited, with $\\beta^l = \\beta^w \\approx -0.3$ and $\\gamma^l = \\gamma^w \\approx 0.2$. But are those results indicative of the full sweep of gender discrimination? Most would probably say they are not."
   ]
  },
  {
   "cell_type": "markdown",
   "id": "11516290-9109-4ee4-a5ec-d19b9e6e9d75",
   "metadata": {},
   "source": [
    "<hr>"
   ]
  },
  {
   "cell_type": "markdown",
   "id": "8248278b-b817-488a-98af-eb1e499f16ea",
   "metadata": {},
   "source": [
    "One could turn off direct gender discrimination in wages to see this point another way. Suppose we set $\\beta^w = 0$:"
   ]
  },
  {
   "cell_type": "code",
   "execution_count": null,
   "id": "890dcc6c",
   "metadata": {},
   "outputs": [],
   "source": [
    "ao = 1  \n",
    "bo = -2 # gender discrimination in occupation\n",
    "\n",
    "aw = 3.6\n",
    "bw = 0    # NO gender discrimination in wages\n",
    "gw = 0.2  # effect of occupation on wages\n",
    "\n",
    "data_disc_1k_2 <- tibble(\n",
    "    female     = ifelse(runif(10000)>=0.5,1,0),\n",
    "    occupation = ao + bo*female + rnorm(10000, mean = 0, sd = 0.1),\n",
    "    logwage    = aw + bw*female + gw*occupation + rnorm(10000, mean = 0, sd = 0.1) \n",
    ")"
   ]
  },
  {
   "cell_type": "code",
   "execution_count": null,
   "id": "847f2340-30e7-4eeb-a296-323eaf2b46b5",
   "metadata": {},
   "outputs": [],
   "source": [
    "reg_2_short <- lm(logwage ~ female,\n",
    "                  data = data_disc_1k_2)\n",
    "summary(reg_2_short)"
   ]
  },
  {
   "cell_type": "markdown",
   "id": "277cd1bc-a9f8-46ae-8ace-0e841a03367c",
   "metadata": {},
   "source": [
    "The short regression still shows gender discrimination, because it reveals the total derivative of the log wage with respect to $female_i$. But all that is left is the $\\gamma^w \\times \\beta^o = -0.4$ piece.\n",
    "\n",
    "Consider the long regression:"
   ]
  },
  {
   "cell_type": "code",
   "execution_count": null,
   "id": "144ee7de",
   "metadata": {},
   "outputs": [],
   "source": [
    "reg_2_long <- lm(logwage ~ female\n",
    "                 + occupation,\n",
    "                  data = data_disc_1k_2)\n",
    "summary(reg_2_long)"
   ]
  },
  {
   "cell_type": "markdown",
   "id": "9476fb3c",
   "metadata": {},
   "source": [
    "Here, there is no direct effect of gender discrimination on wages, <i>even though there still is an indirect effect running through occupation into wages</i>. In the long regression, we cannot and should not reject $\\beta^l = 0$, but it would be a mistake to conclude there is no gender discrimination in wages. There clearly is discrimination, but it runs through occupation, which we have held constant."
   ]
  },
  {
   "cell_type": "markdown",
   "id": "7c1a9b89-aef2-4d98-b3cc-56d126b10f36",
   "metadata": {},
   "source": [
    "<hr>"
   ]
  },
  {
   "cell_type": "markdown",
   "id": "dffc7034-e22d-47e9-a19d-9785b103c1ad",
   "metadata": {},
   "source": [
    "<h2>Good controls</h2>"
   ]
  },
  {
   "cell_type": "markdown",
   "id": "e9e80ea8-bafa-43e3-8dfa-24fb2dd69473",
   "metadata": {},
   "source": [
    "Is it always a mistake to control for other characteristics? Definitely not. But especially when the research question has to do with <i>disparities</i>, or inequalities that should not exist from a normative or moral perspective, the choice of controls can be controversial.\n",
    "\n",
    "Most studies of the labor market find that workers with more years of labor market <b>experience</b> typically earn more. Other things equal, older workers will have more experience than younger workers, and thus we probably would expect there to be an earnings benefit associated with age. In other words, we would probably not perceive wage inequality favoring older workers as unjust.\n",
    "\n",
    "In a cross section of workers, <b>experience</b> and <b>education</b> are often negatively correlated. There are two reasons why: acquiring years education past the age of compulsory schooling typically requires sacrificing years of work experience; and older birth cohorts typically had less access to education than younger birth cohorts.\n",
    "\n",
    "If we are interested in the effect of education on earnings, then <i>we should control for experience</i> or age in the regression, comparing apples-to-apples. Experience or age is probably a <b>good control</b> in an earnings regression in most cases. There are situations when the causal effect of a treatment variable on earnings might flow through experience; see for example the voluminous work on gender inequality by 2023 Nobel Laureate in Economics, [Claudia Goldin](https://www.nobelprize.org/prizes/economic-sciences/2023/prize-announcement/). But for many other situations, age is likely to be a more immutable characteristic. "
   ]
  },
  {
   "cell_type": "markdown",
   "id": "99b8612d",
   "metadata": {},
   "source": [
    "<div style=\"text-align: right\"> <span style=\"font-family:Papyrus; \">And they lived happily ever after. The End.</span></div>"
   ]
  }
 ],
 "metadata": {
  "kernelspec": {
   "display_name": "R",
   "language": "R",
   "name": "ir"
  },
  "language_info": {
   "codemirror_mode": "r",
   "file_extension": ".r",
   "mimetype": "text/x-r-source",
   "name": "R",
   "pygments_lexer": "r",
   "version": "4.4.1"
  }
 },
 "nbformat": 4,
 "nbformat_minor": 5
}
